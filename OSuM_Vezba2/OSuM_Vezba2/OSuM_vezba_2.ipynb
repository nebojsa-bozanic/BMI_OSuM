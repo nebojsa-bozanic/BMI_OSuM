{
  "nbformat": 4,
  "nbformat_minor": 0,
  "metadata": {
    "colab": {
      "name": "OSuM vezba 2.ipynb",
      "provenance": [],
      "collapsed_sections": [],
      "include_colab_link": true
    },
    "kernelspec": {
      "name": "python3",
      "display_name": "Python 3"
    },
    "language_info": {
      "name": "python"
    }
  },
  "cells": [
    {
      "cell_type": "markdown",
      "metadata": {
        "id": "view-in-github",
        "colab_type": "text"
      },
      "source": [
        "<a href=\"https://colab.research.google.com/github/nebojsa-bozanic/OSuM/blob/master/OSuM_Vezba2/OSuM_Vezba2/OSuM_vezba_2.ipynb\" target=\"_parent\"><img src=\"https://colab.research.google.com/assets/colab-badge.svg\" alt=\"Open In Colab\"/></a>"
      ]
    },
    {
      "cell_type": "markdown",
      "source": [
        "<h1>Obrada slike u medicini (BMI)</h1>\n",
        "\n",
        "Literatura: https://moodle.telekom.ftn.uns.ac.rs/course/view.php?id=82"
      ],
      "metadata": {
        "id": "bpbPEBo57xIN"
      }
    },
    {
      "cell_type": "markdown",
      "source": [
        "Laboratorijska vežba 2: Manipulacije nad 3D slikom\n",
        "\n",
        "Potrebne biblioteke: pydicom, cv2, numpy, matplotlib.pyplot, matplotlib.widgets"
      ],
      "metadata": {
        "id": "c5Y7bRMTLJao"
      }
    },
    {
      "cell_type": "code",
      "source": [
        "!git clone https://github.com/nebojsa-bozanic/OSuM.git\n",
        "%cd /content/OSuM/OSuM_Vezba2/OSuM_Vezba2"
      ],
      "metadata": {
        "id": "wNZGd9rN7sGc",
        "outputId": "3e46213c-0e30-45cb-ee13-6edcc510594f",
        "colab": {
          "base_uri": "https://localhost:8080/"
        }
      },
      "execution_count": 6,
      "outputs": [
        {
          "output_type": "stream",
          "name": "stdout",
          "text": [
            "Cloning into 'OSuM'...\n",
            "remote: Enumerating objects: 111, done.\u001b[K\n",
            "remote: Counting objects: 100% (111/111), done.\u001b[K\n",
            "remote: Compressing objects: 100% (104/104), done.\u001b[K\n",
            "remote: Total 111 (delta 35), reused 54 (delta 6), pack-reused 0\u001b[K\n",
            "Receiving objects: 100% (111/111), 28.86 MiB | 27.42 MiB/s, done.\n",
            "Resolving deltas: 100% (35/35), done.\n",
            "/content/OSuM/OSuM_Vezba2/OSuM_Vezba2\n"
          ]
        }
      ]
    },
    {
      "cell_type": "code",
      "source": [
        "!pip install pydicom"
      ],
      "metadata": {
        "colab": {
          "base_uri": "https://localhost:8080/"
        },
        "id": "ApqNlJUJLaMQ",
        "outputId": "2a4ee6bf-59fd-4392-c609-96625b1fec37"
      },
      "execution_count": 7,
      "outputs": [
        {
          "output_type": "stream",
          "name": "stdout",
          "text": [
            "Requirement already satisfied: pydicom in /usr/local/lib/python3.7/dist-packages (2.3.0)\n"
          ]
        }
      ]
    },
    {
      "cell_type": "code",
      "source": [
        "import pydicom as dicom\n",
        "import numpy as np\n",
        "import cv2\n",
        "\n",
        "from google.colab.patches import cv2_imshow\n",
        "from IPython.display import clear_output\n",
        "from time import sleep"
      ],
      "metadata": {
        "id": "9rsVhNLe788r"
      },
      "execution_count": 13,
      "outputs": []
    },
    {
      "cell_type": "markdown",
      "source": [
        "1. Video iz DICOM fajla\n",
        "\n",
        "1.1 Učitati DICOM fajl 0002.dcm i u posebnu promenljivu izvući atribut koji se odnosi na\n",
        "snimak, tj. sekvencu snimaka u ovom primeru. Koje su dimenzije te promenljive? Koji\n",
        "je modalitet snimanja u pitanju?\n",
        "\n",
        "1.2 Reorganizovati redosled dimenzija tako da se dimenzija koja se odnosi na vreme\n",
        "nalazi na poslednjem mestu. (Ovaj korak nije neophodan.)\n",
        "\n",
        "1.3 Sačuvati učitanu angiografsku sekvencu u video fajl videoXA.avi.\n",
        "\n",
        "1.4 Prikazati video napravljen u prethodnom koraku.\n",
        "\n",
        "\n",
        "2. Učitavanje 3D slike\n",
        "\n",
        "2.1 Napraviti novi modul slika_3d.py i u njemu funkciju imread_3d za učitavanje 3D slike u formatu .img sa propratnih .hdr fajlom.\n",
        "\n",
        "2.2 U glavnom modulu učitati sliku iz fajlova 01006_t1_cma.img i 01006_t1_cma.hdr. Kojih dimenzija je ova slika?\n",
        "\n",
        "2.3 Prikazati presek ove 3D slike u xy ravni, za z=100. Obratiti pažnju da je redosled dimenzija (z,x,y). Koji modalitet snimanja je u pitanju?\n",
        "\n",
        "\n",
        "3. GUI za prikaz 3D slike u 3 projekcije\n",
        "GUI za jedanu dimenziju (prikaz_z.py):\n",
        "\n",
        "3.1 Prikazati presek 3D MRI slike u xy ravni na jednom subplot-u.\n",
        "\n",
        "3.2 Definisati slajder kojim će se kontrolisati vrednosti preseka po z-osi.\n",
        "\n",
        "3.3 Definisati callback funkciju koja definiše akciju koja se dešava na promenu vrednosti slajdera. Pozvati tu funkciju.\n",
        "GUI za 3 dimenzije:\n",
        "\n",
        "3.4 U modulu slika_3d.py napraviti funkciju imshow_slice koja prikazuje 3D sliku u sva tri preseka. U okviru nje definisati slajdere za promenu vrednosti preseka po svim\n",
        "dimenzijama.\n",
        "\n",
        "3.5 U glavnom modulu definisati callback funkcije za sva tri preseka.\n",
        "\n",
        "3.6 Iskoristiti matplotlib podmodul gridspec za organizaciju subplot-ova.\n",
        "\n",
        "\n",
        "4. Koordinate na kojima se nalazi sadržaj slike\n",
        "\n",
        "4.1 Napraviti funkciju koordinate u modulu slika_3d.py koja pronalazi početnu i krajnju koordinatu na kojima se nalazi sadržaj slike. Očitati vrednosti koordinata na kojima počinje i na kojima se završava sadržaj slike, za sve tri dimenzije. Da li se očitane vrednosti slažu sa vrednostima koje su dobijene iz funkcije?"
      ],
      "metadata": {
        "id": "vXfp4J7d76UL"
      }
    },
    {
      "cell_type": "code",
      "execution_count": null,
      "metadata": {
        "id": "MmS6ZSdU8KhE"
      },
      "outputs": [],
      "source": [
        "# 1.1\n",
        "pd = dicom.dcmread('0002.DCM')\n",
        "im = pd.pixel_array\n",
        "\n",
        "# 1.2\n",
        "im = np.swapaxes(im, 0, 1)\n",
        "im = np.swapaxes(im, 1, 2)\n",
        "\n",
        "# 1.3\n",
        "fourcc = cv2.VideoWriter_fourcc('M', 'J', 'P', 'G')\n",
        "fps = 10  # frame rate\n",
        "frame_size = (im.shape[0], im.shape[1])  # dimeznije frejma; ako je izostavljen korak 1.2 prilagoditi ovaj deo\n",
        "isColour = 0\n",
        "\n",
        "# Video Writer objekat\n",
        "video_out = cv2.VideoWriter('videoXA.avi', fourcc, fps, frame_size, isColour)\n",
        "\n",
        "# zapisivanje frejm po frejm\n",
        "for i in range(im.shape[2]):\n",
        "    video_out.write(im[:, :, i])\n",
        "\n",
        "video_out.release()\n",
        "\n",
        "# 1.4\n",
        "\n",
        "# Video Capture objekat\n",
        "cap = cv2.VideoCapture('videoXA.avi')\n",
        "clear_output()\n",
        "\n",
        "while cap.isOpened():  # cap.isOpened bice true ako je inicijalizacija prosla kako treba\n",
        "    # citanje frejm po frejm; ret - true ako je frejm procitan\n",
        "    ret, frame = cap.read()\n",
        "    if not ret:\n",
        "        break\n",
        "    # frejm se prikazuje kao slika\n",
        "    cv2_imshow(frame) # 'Video', \n",
        "    # delay nakon koga se prikazuje sledeci frejm - to nizanje frejmova vidimo kao vide0\n",
        "    sleep(0.1)\n",
        "\n",
        "cap.release()\n",
        "cv2.waitKey(0)\n",
        "cv2.destroyAllWindows()"
      ]
    },
    {
      "cell_type": "code",
      "source": [
        "import numpy as np\n",
        "import matplotlib.pyplot as plt\n",
        "from matplotlib.widgets import Slider\n",
        "\n",
        "\n",
        "# 2.1\n",
        "def imread_3d(img_path, hdr_path):\n",
        "    f_img = open(img_path, 'rb')\n",
        "    f_hdr = open(hdr_path, 'rb')\n",
        "\n",
        "    img = np.fromfile(f_img, np.dtype('uint16'))\n",
        "    f_hdr.seek(40)  # postavljanje pointera na zeljenu lokaciju\n",
        "    hdr = np.fromfile(f_hdr, np.dtype('uint16'))\n",
        "\n",
        "    ndims = hdr[0]\n",
        "    im_dims = hdr[1:ndims + 1]\n",
        "    image = img.reshape(im_dims)\n",
        "\n",
        "    f_img.close()\n",
        "    f_hdr.close()\n",
        "\n",
        "    return image\n",
        "\n",
        "\n",
        "# 3.4\n",
        "def imshow_slice(img, ax, ndims):\n",
        "    im_obj = []\n",
        "    sl_d = []\n",
        "    for dim in range(ndims):\n",
        "        # promenljive koje je potrebno definisati u zavisnosti od dimenzije\n",
        "        if dim == 0:\n",
        "            # pocetni prikaz za presek po z-osi\n",
        "            image = img[0, :, :]\n",
        "            dim_str = 'z'\n",
        "            # udaljenost slajdera od leve ivice\n",
        "            axs_l = 0.1\n",
        "        elif dim == 1:\n",
        "            # pocetni prikaz za presek po x-osi\n",
        "            image = img[:, 0, :]\n",
        "            # slika je 'izvrnuta' po x dimenziji pa je treba ispraviti\n",
        "            image = np.flipud(image)\n",
        "            dim_str = 'x'\n",
        "            # udaljenost slajdera od leve ivice\n",
        "            axs_l = 0.4\n",
        "        elif dim == 2:\n",
        "            # pocetni prikaz za presek po y-osi\n",
        "            image = img[:, :, 0]\n",
        "            # slika je 'izvrnuta' po y dimenziji pa je treba ispraviti\n",
        "            image = np.flipud(image)\n",
        "            # udaljenost slajdera od leve ivice\n",
        "            dim_str = 'y'\n",
        "            axs_l = 0.7\n",
        "\n",
        "        im_obj_dim = ax[dim].imshow(image, cmap='gray', vmin=img.min(), vmax=img.max())\n",
        "        im_obj.append(im_obj_dim)\n",
        "        ax[dim].set_title(dim_str+' presek')\n",
        "        ax[dim].axis('off')\n",
        "        ax_d = plt.axes([axs_l, 0.02, 0.2, 0.03])\n",
        "        sl_d_dim = Slider(ax_d, dim_str, valmin=0, valmax=img.shape[dim] - 1, valinit=0, valstep=1)\n",
        "        sl_d.append(sl_d_dim)\n",
        "\n",
        "    return im_obj, sl_d\n",
        "\n",
        "\n",
        "# 4.1\n",
        "def koordinate(im, dim):\n",
        "    c = 1\n",
        "    # prolaz kroz svaki presek dimenzije dim\n",
        "    for i in range(im.shape[dim]):\n",
        "        if dim == 0:\n",
        "            tmp = im[i, :, :]\n",
        "        elif dim == 1:\n",
        "            tmp = im[:, i, :]\n",
        "        elif dim == 2:\n",
        "            tmp = im[:, :, i]\n",
        "\n",
        "        # ukoliko ima makar jedan piksel cija vrednost nije 0 - detektovan sadrzaj slike;\n",
        "        if tmp.any() and c == 1:\n",
        "            pocetak = i\n",
        "            c = 2  # da se ne prebrise koordinata pocetka u sledecoj iteraciji\n",
        "\n",
        "        # krajnja koordinata se trazi samo ako je vec pronadjen pocetak (c==2)\n",
        "        if not tmp.any() and c == 2:\n",
        "            kraj = i-1  # poslednja koordinata na kojoj se nalazio sadrzaj\n",
        "            break\n",
        "\n",
        "    return pocetak, kraj\n",
        "\n",
        "\n",
        "\n"
      ],
      "metadata": {
        "id": "MSuparEKLIH8"
      },
      "execution_count": 16,
      "outputs": []
    },
    {
      "cell_type": "code",
      "source": [
        "import numpy as np\n",
        "import matplotlib.pyplot as plt\n",
        "from matplotlib.widgets import Slider\n",
        "'''\n",
        "# postavljanje foldera u kom se nalazi zeljeni modul (slika_3d.py) na python path\n",
        "import sys\n",
        "sys.path.append('putanja do foldera')\n",
        "'''\n",
        "import slika_3d\n",
        "\n",
        "im = slika_3d.imread_3d('01006_t1_cma.img', '01006_t1_cma.hdr')\n",
        "im = im.astype(np.uint8)\n",
        "\n",
        "# 3.1\n",
        "fig, ax = plt.subplots(1, 3)\n",
        "# kada se tek otvori GUI bice prikazan presek im[0, :, :]\n",
        "im_objz = ax[0].imshow(im[0, :, :], cmap='gray', vmin=im.min(), vmax=im.max())\n",
        "ax[0].axis('off')\n",
        "ax[0].set_title('z presek')\n",
        "\n",
        "# 3.2\n",
        "# osa na kojoj ce se nalaziti slajder\n",
        "ax_sldz = plt.axes([0.1, 0.03, 0.2, 0.03])  # [left, bottom, width, height]\n",
        "sldz = Slider(ax_sldz, 'z', valmin=0, valmax=im.shape[0]-1, valinit=0, valstep=1)\n",
        "\n",
        "# kada se tek otvori GUI bice prikazan presek im[0, :, :]\n",
        "im_objx = ax[1].imshow(im[:, 30, :], cmap='gray', vmin=im.min(), vmax=im.max())\n",
        "ax[1].axis('off')\n",
        "ax[1].set_title('x presek')\n",
        "\n",
        "# 3.2\n",
        "# osa na kojoj ce se nalaziti slajder\n",
        "ax_sldx = plt.axes([0.4, 0.03, 0.2, 0.03])  # [left, bottom, width, height]\n",
        "sldx = Slider(ax_sldx, 'x', valmin=0, valmax=im.shape[1]-1, valinit=0, valstep=1)\n",
        "\n",
        "# kada se tek otvori GUI bice prikazan presek im[0, :, :]\n",
        "im_objy = ax[2].imshow(im[:, :, 15], cmap='gray', vmin=im.min(), vmax=im.max())\n",
        "ax[2].axis('off')\n",
        "ax[2].set_title('y presek')\n",
        "\n",
        "# 3.2\n",
        "# osa na kojoj ce se nalaziti slajder\n",
        "ax_sldy = plt.axes([0.7, 0.03, 0.2, 0.03])  # [left, bottom, width, height]\n",
        "sldy = Slider(ax_sldy, 'y', valmin=0, valmax=im.shape[2]-1, valinit=0, valstep=1)\n",
        "\n",
        "# 3.3\n",
        "def update_z(val):\n",
        "    # vrednost sa slajdera\n",
        "    z = sldz.val\n",
        "    # azuriranje slike\n",
        "    img = im[z, :, :]\n",
        "    im_objz.set_data(img)\n",
        "    fig.canvas.draw_idle()\n",
        "\n",
        "\n",
        "\n",
        "# na promenu vrednosti slajdera pozvati callback\n",
        "sldz.on_changed(update_z)\n",
        "\n",
        "def update_x(val):\n",
        "    # vrednost sa slajdera\n",
        "    x = sldx.val\n",
        "    # azuriranje slike\n",
        "    img = im[:, x, :]\n",
        "    im_objx.set_data(img)\n",
        "    fig.canvas.draw_idle()\n",
        "\n",
        "\n",
        "# na promenu vrednosti slajdera pozvati callback\n",
        "sldx.on_changed(update_x)\n",
        "# plt.show()\n",
        "\n",
        "\n",
        "def update_y(val):\n",
        "    # vrednost sa slajdera\n",
        "    y = sldy.val\n",
        "    # azuriranje slike\n",
        "    img = im[:, :, y]\n",
        "    im_objy.set_data(img)\n",
        "    fig.canvas.draw_idle()\n",
        "\n",
        "\n",
        "# na promenu vrednosti slajdera pozvati callback\n",
        "sldy.on_changed(update_y)\n",
        "plt.show()  "
      ],
      "metadata": {
        "id": "Q6zLgvQRMC9m",
        "outputId": "7686b79e-2932-47f0-e7d9-86f97948c63f",
        "colab": {
          "base_uri": "https://localhost:8080/",
          "height": 285
        }
      },
      "execution_count": 17,
      "outputs": [
        {
          "output_type": "display_data",
          "data": {
            "text/plain": [
              "<Figure size 432x288 with 6 Axes>"
            ],
            "image/png": "[encoded data removed]"
          },
          "metadata": {
            "needs_background": "light"
          }
        }
      ]
    },
    {
      "cell_type": "code",
      "source": [
        "import numpy as np\n",
        "import slika_3d\n",
        "import matplotlib.pyplot as plt\n",
        "\n",
        "\n",
        "def main():\n",
        "\n",
        "    # 2.2\n",
        "    im = slika_3d.imread_3d('/Users/aleksandra/Desktop/vezba2/01006_t1_cma.img', '/Users/aleksandra/Desktop/vezba2/01006_t1_cma.hdr')\n",
        "    im = im.astype(np.uint8)\n",
        "\n",
        "    # 2.3\n",
        "    z = 100\n",
        "    im_z = im[z, :, :]\n",
        "    plt.figure(1)\n",
        "    plt.imshow(im_z, cmap='gray', vmin=im_z.min(), vmax=im_z.max())\n",
        "    plt.axis('off')\n",
        "    plt.show()\n",
        "\n",
        "# 3.5\n",
        "    def update_z(val):\n",
        "        z = sl_d[0].val\n",
        "        img = im[z, :, :]\n",
        "        im_obj[0].set_data(img)\n",
        "        fig.canvas.draw_idle()\n",
        "\n",
        "    def update_x(val):\n",
        "        x = sl_d[1].val\n",
        "        img = im[:, x, :]\n",
        "        img = np.flipud(img)\n",
        "        im_obj[1].set_data(img)\n",
        "        fig.canvas.draw_idle()\n",
        "\n",
        "    def update_y(val):\n",
        "        y = sl_d[2].val\n",
        "        img = im[:, :, y]\n",
        "        img = np.flipud(img)\n",
        "        im_obj[2].set_data(img)\n",
        "        fig.canvas.draw_idle()\n",
        "\n",
        "    # 3.6\n",
        "    fig = plt.figure()\n",
        "    gs = fig.add_gridspec(2, 2)\n",
        "    ax_z = fig.add_subplot(gs[0, 0])\n",
        "    ax_x = fig.add_subplot(gs[1, 0])\n",
        "    ax_y = fig.add_subplot(gs[:, 1])  # y presek zauzima celu desnu kolonu\n",
        "    # plt.subplots_adjust(bottom=0.1) # ukoliko je potrebno pomeriti subplot-ove od donje ivice\n",
        "    ax = [ax_z, ax_x, ax_y]\n",
        "    im_obj, sl_d = slika_3d.imshow_slice(im, ax, len(im.shape))\n",
        "    sl_d[0].on_changed(update_z)\n",
        "    sl_d[1].on_changed(update_x)\n",
        "    sl_d[2].on_changed(update_y)\n",
        "    plt.show()\n",
        "\n",
        "    # 4.1\n",
        "    z1, z2 = slika_3d.koordinate(im, 0)Laboratorijska\n",
        "    y1, y2 = slika_3d.koordinate(im, 2)\n",
        "\n",
        "    return z1, z2, x1, x2, y1, y2\n",
        "\n",
        "\n",
        "if __name__ == '__main__':\n",
        "    # ovaj deo koda ce se izvrsiti ukoliko se skripta poziva direktno, a ne ucitava u negde kao modul\n",
        "    z1, z2, x1, x2, y1, y2 = main()"
      ],
      "metadata": {
        "id": "fmVkCXL4MHyH"
      },
      "execution_count": null,
      "outputs": []
    }
  ]
}