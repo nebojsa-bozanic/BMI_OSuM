{
  "nbformat": 4,
  "nbformat_minor": 0,
  "metadata": {
    "colab": {
      "name": "OSuM vezba 8.ipynb",
      "provenance": [],
      "collapsed_sections": [],
      "include_colab_link": true
    },
    "kernelspec": {
      "name": "python3",
      "display_name": "Python 3"
    },
    "language_info": {
      "name": "python"
    }
  },
  "cells": [
    {
      "cell_type": "markdown",
      "metadata": {
        "id": "view-in-github",
        "colab_type": "text"
      },
      "source": [
        "<a href=\"https://colab.research.google.com/github/nebojsa-bozanic/OSuM/blob/master/OSuM_Vezba8/OSuM_Vezba8/OSuM_vezba_8.ipynb\" target=\"_parent\"><img src=\"https://colab.research.google.com/assets/colab-badge.svg\" alt=\"Open In Colab\"/></a>"
      ]
    },
    {
      "cell_type": "markdown",
      "source": [
        "<h1>Obrada slike u medicini (BMI)</h1>\n",
        "\n",
        "Literatura: https://moodle.telekom.ftn.uns.ac.rs/course/view.php?id=82\n"
      ],
      "metadata": {
        "id": "iI6EsXJZ9wna"
      }
    },
    {
      "cell_type": "markdown",
      "source": [
        "Laboratorijska vežba 8: Obrada rendgenske slike: Suzbijanje šuma 2\n",
        "\n",
        "Potrebne biblioteke: cv2, numpy, matplotlib.pyplot, pywt, bm3d, os, scipy. ndimage.filters (convolve1d), osum"
      ],
      "metadata": {
        "id": "gRjyIqqVOd4y"
      }
    },
    {
      "cell_type": "code",
      "source": [
        "!git clone https://github.com/nebojsa-bozanic/OSuM.git\n",
        "%cd /content/OSuM/OSuM_Vezba8/OSuM_Vezba8"
      ],
      "metadata": {
        "id": "CqPHEoHCwgCQ",
        "outputId": "da1bcf88-fa09-4b22-8eb8-ae1b6e5f383a",
        "colab": {
          "base_uri": "https://localhost:8080/"
        }
      },
      "execution_count": null,
      "outputs": [
        {
          "output_type": "stream",
          "name": "stdout",
          "text": [
            "fatal: destination path 'OSuM' already exists and is not an empty directory.\n",
            "/content/OSuM/OSuM_Vezba8/OSuM_Vezba8\n"
          ]
        }
      ]
    }
  ]
}