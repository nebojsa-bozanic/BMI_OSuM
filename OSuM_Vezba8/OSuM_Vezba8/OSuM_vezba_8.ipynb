{
  "nbformat": 4,
  "nbformat_minor": 0,
  "metadata": {
    "colab": {
      "name": "OSuM vezba 8.ipynb",
      "provenance": [],
      "collapsed_sections": [],
      "include_colab_link": true
    },
    "kernelspec": {
      "name": "python3",
      "display_name": "Python 3"
    },
    "language_info": {
      "name": "python"
    }
  },
  "cells": [
    {
      "cell_type": "markdown",
      "metadata": {
        "id": "view-in-github",
        "colab_type": "text"
      },
      "source": [
        "<a href=\"https://colab.research.google.com/github/nebojsa-bozanic/OSuM/blob/master/OSuM_Vezba8/OSuM_Vezba8/OSuM_vezba_8.ipynb\" target=\"_parent\"><img src=\"https://colab.research.google.com/assets/colab-badge.svg\" alt=\"Open In Colab\"/></a>"
      ]
    },
    {
      "cell_type": "markdown",
      "source": [
        "<h1>Obrada slike u medicini (BMI)</h1>\n",
        "\n",
        "Literatura: https://moodle.telekom.ftn.uns.ac.rs/course/view.php?id=82\n"
      ],
      "metadata": {
        "id": "iI6EsXJZ9wna"
      }
    },
    {
      "cell_type": "markdown",
      "source": [
        "Laboratorijska vežba 8: Obrada rendgenske slike: Suzbijanje šuma 2\n",
        "\n",
        "Potrebne biblioteke: cv2, numpy, matplotlib.pyplot, pywt, bm3d, os, scipy. ndimage.filters (convolve1d), osum"
      ],
      "metadata": {
        "id": "gRjyIqqVOd4y"
      }
    },
    {
      "cell_type": "code",
      "source": [
        "!git clone https://github.com/nebojsa-bozanic/OSuM.git\n",
        "%cd /content/OSuM/OSuM_Vezba8/OSuM_Vezba8"
      ],
      "metadata": {
        "id": "CqPHEoHCwgCQ",
        "outputId": "da1bcf88-fa09-4b22-8eb8-ae1b6e5f383a",
        "colab": {
          "base_uri": "https://localhost:8080/"
        }
      },
      "execution_count": null,
      "outputs": [
        {
          "output_type": "stream",
          "name": "stdout",
          "text": [
            "fatal: destination path 'OSuM' already exists and is not an empty directory.\n",
            "/content/OSuM/OSuM_Vezba8/OSuM_Vezba8\n"
          ]
        }
      ]
    },
    {
      "cell_type": "code",
      "source": [
        "import cv2\n",
        "import numpy as np\n",
        "import matplotlib.pyplot as plt\n",
        "import osum\n",
        "import pywt"
      ],
      "metadata": {
        "id": "1t1fyKZNqQ7Z"
      },
      "execution_count": null,
      "outputs": []
    },
    {
      "cell_type": "markdown",
      "source": [
        "1. Modifikacije sigmoidalne krive za multiveličinsko pojačanje\n",
        "Ako pretpostavimo da na višim nivoima piramide dominira šum, multiveličinsko pojačanje\n",
        "struktura običnom sigmoidalnom krivom dodatno pojačava šum na tim nivoima. Uvodimo\n",
        "dve modifikacije sigmoidalne krive kako bismo prevazišli ovaj problem.\n",
        "Ublaženo pojačanje\n",
        "1.1 U modulu osum napraviti funkciju sigmLUT_lin modifikacijom sigmLUT tako da niske\n",
        "vrednosti budu mapirane linearno. Ulazni parametri funkcije su ulazni opseg, izlazni\n",
        "opseg, nagib i procenat opsega oko nule koji se transformiše linearno.\n",
        "1.2 U skripti v8_1.py Napraviti LUT za običnu sigmoidalnu transformaciju kojom se\n",
        "transformiše ulazni opseg -2000 do 2000 u opseg -800 do 800 sa nagibom 7. Prikazati\n",
        "LUT.\n",
        "1.3 Napraviti LUT za modifikovanu sigmoidalnu transformaciju sa linearnim delom\n",
        "koristeći iste parametre kao u prethodnoj tački i 6% opsega koji se transformiše\n",
        "linearno. Prikazati ovaj LUT.\n",
        "1.4 Učitati sliku Ro_01.fxd i uraditi logaritamsku kompresiju opsega (im_log).\n",
        "1.5 Napraviti Laplasovu piramidu i primeniti napravljene LUT za pojačanje detalja na\n",
        "prvom nivou.\n",
        "1.6 Rekonstruisati slike, prikazati ih i analizirati razlike.\n",
        "1.7 Isprobati različite vrednosti parametra t u sigmLUT_lin. Takođe isprobati sve na 2.\n",
        "nivou i na prvom i drugom nivou u isto vreme.\n",
        "Direktno potiskivanje šuma\n",
        "1.8 Druga modifikacija sigmoida podrazumeva da se niski koeficijenti potpuno potisnu, tj.\n",
        "da se svedu na 0. U modulu osum napraviti funkciju sigmLUT_z u kojoj se implementira\n",
        "ova modifikacije. Ulazni parametri su ulazni opseg, izlazni opseg, nagib i procenat\n",
        "opsega oko nule koji se suzbija.\n",
        "1.9 Napraviti LUT za ovu modifikovanu sigmoidalnu transformaciju sa parametrima kao u\n",
        "1.3. Prikazati LUT i uporediti ga sa običnom sigmoidalnom transformacijom.\n",
        "1.10 Primeniti ovaj LUT na prvi nivo LP, rekonstruisati sliku i analizirati je.\n",
        "1.11 Isprobati različite vrednosti parametra t u sigmLUT_z. Takođe isprobati sve na\n",
        "2. nivou i na prvom i drugom nivou u isto vreme."
      ],
      "metadata": {
        "id": "kzoTGC0PqNgy"
      }
    },
    {
      "cell_type": "code",
      "source": [
        "\n",
        "# 1.2\n",
        "sigLUT = osum.sigmLUT(2000, 800, 7)\n",
        "plt.figure()\n",
        "plt.plot(np.arange(-2000, 2001), sigLUT)\n",
        "plt.grid()\n",
        "plt.title('LUT za sigmoidalno pojacanje')\n",
        "\n",
        "# 1.3\n",
        "sigLUT_lin = osum.sigmLUT_lin(2000, 800, 7, 0.03)\n",
        "plt.figure()\n",
        "plt.plot(np.arange(-2000, 2001), sigLUT_lin)\n",
        "plt.grid()\n",
        "plt.title('LUT za ublazeno pojacanje')\n",
        "plt.show()\n",
        "\n",
        "# 1.4\n",
        "[im, DetInfo, hdr] = osum.read_raw('Ro_01.fxd')\n",
        "logLUT = osum.log_LUT(16384, 4096, 0.001)\n",
        "im_log = logLUT[im]\n",
        "\n",
        "# 1.5\n",
        "Lpyr, Gpyr, Res, size_vec = osum.im_pyr_decomp(im_log, 2)\n",
        "L1 = Lpyr[0]\n",
        "\n",
        "Lk1 = sigLUT[np.uint16(L1+2000)]\n",
        "Lpyr1 = Lpyr\n",
        "Lpyr1[0] = Lk1\n",
        "\n",
        "Lk2 = sigLUT_lin[np.uint16(L1+2000)]\n",
        "Lpyr2 = Lpyr\n",
        "Lpyr2[0] = Lk2\n",
        "\n",
        "# 1.6\n",
        "im_rec1 = osum.im_pyr_recon(Lpyr1, Res, size_vec)\n",
        "im_rec2 = osum.im_pyr_recon(Lpyr2, Res, size_vec)\n",
        "\n",
        "fig = plt.figure()\n",
        "ax = fig.add_axes([0,0,1,1])\n",
        "ax.imshow(im_rec1, cmap='gray', vmin=im_rec1.min(), vmax=im_rec1.max())\n",
        "plt.axis('off')\n",
        "fig.canvas.set_window_title('Sigmoidalno pojacanje')\n",
        "\n",
        "fig = plt.figure()\n",
        "ax = fig.add_axes([0,0,1,1])\n",
        "ax.imshow(im_rec2, cmap='gray', vmin=im_rec2.min(), vmax=im_rec2.max())\n",
        "plt.axis('off')\n",
        "fig.canvas.set_window_title('Ublazeno sigmoidalno pojacanje')\n",
        "plt.show()\n",
        "\n",
        "\n",
        "# 1.9\n",
        "sigLUT_z = osum.sigmLUT_z(2000, 800, 7, 0.03)\n",
        "plt.figure()\n",
        "plt.plot(np.arange(-2000, 2001), sigLUT_z)\n",
        "plt.grid()\n",
        "plt.title('LUT za direktno potiskivanje suma')\n",
        "plt.show()\n",
        "\n",
        "# 1.10\n",
        "Lpyr, Gpyr, Res, size_vec = osum.im_pyr_decomp(im_log, 2)\n",
        "L1 = Lpyr[0]\n",
        "\n",
        "Lk3 = sigLUT_z[np.uint16(L1+2000)]\n",
        "Lpyr3 = Lpyr\n",
        "Lpyr3[0] = Lk3\n",
        "im_rec3 = osum.im_pyr_recon(Lpyr3, Res, size_vec)\n",
        "\n",
        "fig = plt.figure()\n",
        "ax = fig.add_axes([0,0,1,1])\n",
        "ax.imshow(im_rec3, cmap='gray', vmin=im_rec3.min(), vmax=im_rec3.max())\n",
        "plt.axis('off')\n",
        "fig.canvas.set_window_title('Direktno potiskivanje suma')\n",
        "plt.show()"
      ],
      "metadata": {
        "id": "iUIr5Nzjqfd4"
      },
      "execution_count": null,
      "outputs": []
    },
    {
      "cell_type": "markdown",
      "source": [
        "2. Procena šuma iz vejvlet piramide\n",
        "Deo opsega koji se suzbija u modifikovanim sigmoidalnim krivama može se preciznije\n",
        "proceniti kao (umnožak) standardne devijacije šuma. Dijagonalni koeficijenti najviših\n",
        "nivoa vejvlet piramide potiču skoro potpuno od šuma što se može iskoristiti za procenu\n",
        "std.\n",
        "2.1 U promenljivu im2 učitati sliku abdomen.png i razložiti je u vejvlet piramidu sa 2 nivoa\n",
        "koristeći vejvlet db4.\n",
        "2.2 Proceniti standardnu devijaciju šuma sa dijagonalnih koeficijenata prvog nivoa\n",
        "piramide koristeći formulu:\n",
        "𝜎! =\n",
        "𝑚𝑒𝑑𝑖𝑎𝑛(|𝐷\"|)\n",
        "0.6745\n",
        "2.3 Modifikovati sigmLUT_z tako da je moguće uneti apsolutnu vrednost intenziteta ispod\n",
        "koga će koeficijenti biti suzbijeni.\n",
        "2.4 Napraviti LUT za sigmoidalno pojačanje i LUT sa direktnim potiskivanjem šuma\n",
        "koristeći parametre ip_range=1000, op_range=800, k=7 i nivo intenziteta 3𝜎!.\n",
        "2.5 Rekonstruisati slike sa modifikovanim prvim nivoom vejvlet piramide u dijagonalnom\n",
        "pravcu i uporediti ih.\n",
        "3. Sličnost po blokovima\n",
        "3.1 U skripti v8_2.py u promenljivu im učitati sliku abdomen_crop.png.\n",
        "3.2 Primenti Non-local Means filtar na sliku im koristeći parametre\n",
        "templateWindowSize=11, searchWindowSize=11, n=9. Prikazati dobijenu sliku I\n",
        "uporediti je sa slikom pre filtriranja.\n",
        "3.3 Primeniti bm3d filtar na sliku im. Primeniti oba stepena (filtraciju pragovanjem i\n",
        "Vinerov filtar), a standardnu devijaciju proceniti na osnovu dijagonalnih koeficijenata\n",
        "prvog nivoa vejvlet piramide (kao u prethodnom delu). Prikazati sliku pre i posle\n",
        "filtriranja.\n",
        "4. Temporalno filtriranje\n",
        "4.1 U skripti v8_3.py učitati fluoroskopsku sekvencu iz foldera Img_1 u 3D matricu\n",
        "im_sekv\n",
        "4.2 Napraviti LUT za logaritamsku kompresiju opsega sa ulaznim i izlaznim opsegom 2\"# i\n",
        "tolerancijom ulaznog opsega 0.1 %\n",
        "4.3 Definisati parametre za pravljenje video zapisa\n",
        "4.4 U for petlji učitati frejm po frejm i primeniti log kompresiju opsega. Invertovati\n",
        "vrednosti i upisati frejm u video sekvencu u opsegu uint8\n",
        "4.5 Definisati 1D Gausov filtar sa parametrima n=11 i sigma=2. Primeniti ovaj filtar za\n",
        "filtriranje sekvence kroz vreme (temporalno filtriranje) i sačuvati je u im_f.\n",
        "4.6 Napravit video zapis od sekvence im_f."
      ],
      "metadata": {
        "id": "BVOqpSh6qPrm"
      }
    },
    {
      "cell_type": "code",
      "source": [
        "\n",
        "# 2.1\n",
        "\n",
        "im2 = cv2.imread('abdomen.png', cv2.IMREAD_GRAYSCALE)\n",
        "\n",
        "w = 'db4'\n",
        "n = 2\n",
        "C = pywt.wavedec2(im2, wavelet=w, mode='periodization', level=n)\n",
        "\n",
        "cA2 = C[0]\n",
        "(cH2, cV2, cD2) = C[1]\n",
        "(cH1, cV1, cD1) = C[2]\n",
        "C = [list(c) for c in C]  # pretvaramo iz tuple u listu da bismo mogli da menjamo\n",
        "\n",
        "fig = plt.figure()\n",
        "ax = fig.add_axes([0,0,1,1])\n",
        "ax.imshow(abs(cD1), cmap='gray', vmin=abs(cD1).min(), vmax=abs(cD1).max())\n",
        "plt.axis('off')\n",
        "fig.canvas.set_window_title('cD1')\n",
        "plt.show()\n",
        "\n",
        "# 2.2\n",
        "sigma = np.median(np.abs(cD1))/0.6745\n",
        "\n",
        "# 2.4\n",
        "sigLUT = osum.sigmLUT(1000, 800, 7)\n",
        "sigLUT_z = osum.sigmLUT_z(1000, 800, 7, 3*sigma)\n",
        "\n",
        "# 2.5\n",
        "cD1_k = sigLUT[np.uint16(cD1+1000)]\n",
        "cD1_k2 = sigLUT_z[np.uint16(cD1+1000)]\n",
        "\n",
        "C[2][2] = cD1_k\n",
        "im_rec1 = pywt.waverec2(C, wavelet=w, mode='periodization')\n",
        "\n",
        "fig = plt.figure()\n",
        "ax = fig.add_axes([0,0,1,1])\n",
        "ax.imshow(im_rec1, cmap='gray', vmin=im_rec1.min(), vmax=im_rec1.max())\n",
        "plt.axis('off')\n",
        "fig.canvas.set_window_title('Sigmoidalna transformacija')\n",
        "\n",
        "C[2][2] = cD1_k2\n",
        "im_rec2 = pywt.waverec2(C, wavelet=w, mode='periodization')\n",
        "\n",
        "fig = plt.figure()\n",
        "ax = fig.add_axes([0,0,1,1])\n",
        "ax.imshow(im_rec2, cmap='gray', vmin=im_rec2.min(), vmax=im_rec2.max())\n",
        "plt.axis('off')\n",
        "fig.canvas.set_window_title('Direktno potiskivanje suma')\n",
        "plt.show()"
      ],
      "metadata": {
        "id": "3S_YxLlXqiis"
      },
      "execution_count": null,
      "outputs": []
    },
    {
      "cell_type": "code",
      "source": [
        "import cv2\n",
        "import numpy as np\n",
        "import pywt\n",
        "import bm3d\n",
        "\n",
        "# 3.1\n",
        "im = cv2.imread('abdomen_crop.png', cv2.IMREAD_GRAYSCALE)\n",
        "\n",
        "# 3.2\n",
        "im_f1 = cv2.fastNlMeansDenoising(im, templateWindowSize=11, searchWindowSize=11, h=9)\n",
        "# vece h - vise se ocuvavaju ivice ali i sum\n",
        "# templateWindow i searchWindow ne moraju da budu istih dimenzija\n",
        "\n",
        "cv2.imshow('Originalna slika', im)\n",
        "cv2.waitKey(0)\n",
        "\n",
        "cv2.imshow('Non-local Mens', im_f1)\n",
        "cv2.waitKey(0)\n",
        "# cv2.destroyAllWindows()\n",
        "\n",
        "# 3.2\n",
        "w = 'db4'\n",
        "n = 2\n",
        "C = pywt.wavedec2(im, wavelet=w, mode='periodization', level=n)\n",
        "cA2 = C[0]\n",
        "(cH2, cV2, cD2) = C[1]\n",
        "(cH1, cV1, cD1) = C[2]\n",
        "C = [list(c) for c in C]\n",
        "\n",
        "sigma = np.median(np.abs(cD1))/0.6745\n",
        "im_f2 = bm3d.bm3d(im, sigma_psd=sigma, stage_arg=bm3d.BM3DStages.ALL_STAGES)\n",
        "\n",
        "cv2.imshow('BM3D', np.uint8(im_f2))\n",
        "cv2.waitKey(0)\n",
        "cv2.destroyAllWindows()"
      ],
      "metadata": {
        "id": "TQxh25JKqjEV"
      },
      "execution_count": null,
      "outputs": []
    },
    {
      "cell_type": "code",
      "source": [
        "import cv2\n",
        "import osum\n",
        "import os\n",
        "from scipy.ndimage.filters import convolve1d\n",
        "import numpy as np\n",
        "\n",
        "# 4.1\n",
        "d = 'Img_1'\n",
        "files = [os.path.join(d,f) for f in sorted(os.listdir(d))]\n",
        "[im, DetInfo, hdr] = osum.read_raw(files[0])\n",
        "\n",
        "im_sekv = np.zeros((im.shape[0], im.shape[1], len(files)))\n",
        "\n",
        "# 4.2\n",
        "logLUT = osum.log_LUT(2**16, 2**16, 0.001)\n",
        "\n",
        "# 4.3\n",
        "fourcc = cv2.VideoWriter_fourcc('M', 'J', 'P', 'G')\n",
        "fps = 4  # proizvoljno\n",
        "frame_size = (im.shape[0], im.shape[1])\n",
        "isColour = 0\n",
        "video_out = cv2.VideoWriter('fluoro.avi', fourcc, fps, frame_size, isColour)\n",
        "\n",
        "# 4.4\n",
        "for i in range(len(files)):\n",
        "    [im, DetInfo, hdr] = osum.read_raw(files[i])\n",
        "    im = logLUT[im]\n",
        "    im_sekv[:,:,i] = im\n",
        "    video_out.write(np.uint8((1-osum.im_norm(im))*255))\n",
        "\n",
        "video_out.release()\n",
        "\n",
        "# 4.5\n",
        "g, x_osa = osum.gaussian(11, 2)\n",
        "im_f = convolve1d(im_sekv, g, axis=2, mode='nearest')\n",
        "\n",
        "# 4.6\n",
        "video_out2 = cv2.VideoWriter('fluoro_filt.avi', fourcc, fps, frame_size, isColour)\n",
        "for i in range(im_f.shape[2]):\n",
        "    fr = im_f[:,:,i]\n",
        "    video_out2.write(np.uint8((1-osum.im_norm(fr))*255))\n",
        "\n",
        "video_out2.release()\n"
      ],
      "metadata": {
        "id": "S5h5MYEBqmZ4"
      },
      "execution_count": null,
      "outputs": []
    }
  ]
}