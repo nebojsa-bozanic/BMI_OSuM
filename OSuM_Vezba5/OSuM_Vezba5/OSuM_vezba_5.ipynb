{
  "nbformat": 4,
  "nbformat_minor": 0,
  "metadata": {
    "colab": {
      "name": "OSuM vezba 5.ipynb",
      "provenance": [],
      "collapsed_sections": []
    },
    "kernelspec": {
      "name": "python3",
      "display_name": "Python 3"
    },
    "language_info": {
      "name": "python"
    }
  },
  "cells": [
    {
      "cell_type": "markdown",
      "source": [
        "Obrada slike u medicini\n",
        "Laboratorijska vežba 5:\n",
        "Obrada rendgenske slike: Logaritamska kompresija opsega\n",
        "Potrebne biblioteke: cv2, numpy, matplotlib.pyplot\n",
        "1. Sirova slika\n",
        "1.1 Učitati sirovu sliku Ro_01.fxd koristeći funkciju read_raw iz modula osum.py.\n",
        "1.2 U kom opsegu se nalaze vrednosti slike? Koji je tip slike? Koje su dimenzije slike?\n",
        "1.3 Prikazati sliku. Koji modalitet je u pitanju i šta se vidi na slici?\n",
        "1.4 Napraviti histogram slike u granicama od 0 do 16384 sa korakom 8.\n",
        "1.5 Prikazati histogram. Kako izgleda raspodela i kako se to odražava na izgled snimka?\n",
        "2. Logaritamska kompresija opsega\n",
        "2.1 U modulu osum.py napraviti funkciju log_LUT u kojoj se pravi look-up tabela sa\n",
        "logaritamskom kompresijom opsega. Ulazni parametri funkcije su ulazni opseg, izlazni\n",
        "opseg i tolerancija do koje se komprimuje linearno.\n",
        "2.2 Napraviti LUT za logaritamsku kompresiju opsega tako da se ulazni opseg od 16384\n",
        "pretvori u opseg 4096 sa tolerancijom 0.001. Primeniti LUT na ulaznu sliku.\n",
        "2.3 Prikazati sliku nakon logaritamske kompresije opsega. Koji je efekat ove\n",
        "transformacije?\n",
        "2.4 Napraviti histogram slike nakon primenjene transformacije i na istom grafiku prikazati\n",
        "histogram pre i nakon transformacije. Kako se razlikuju raspodele?\n",
        "2.5 Ponoviti korak 2.2 koristeći toleranciju od 0.1. Prikazati sliku. Zašto se vidi manje\n",
        "struktura?"
      ],
      "metadata": {
        "id": "vEKPVPGvORtf"
      }
    },
    {
      "cell_type": "code",
      "execution_count": null,
      "metadata": {
        "id": "gqQvLBW28f6u"
      },
      "outputs": [],
      "source": [
        "import cv2\n",
        "import osum\n",
        "import matplotlib.pyplot as plt\n",
        "import numpy as np\n",
        "\n",
        "# 1.1\n",
        "[im, DetInfo, hdr] = osum.read_raw('Ro_01.fxd')\n",
        "\n",
        "# 1.3\n",
        "cv2.imshow('Ulazna slika', im/im.max())\n",
        "cv2.waitKey(0)\n",
        "# cv2.destroyAllWindows()\n",
        "\n",
        "# 1.4\n",
        "g = np.arange(0, 16385, 8)\n",
        "h1 = np.histogram(im, g)\n",
        "\n",
        "# 1.5\n",
        "plt.figure()\n",
        "plt.plot(g[:-1], h1[0])\n",
        "plt.show()\n",
        "\n",
        "# 2.2\n",
        "lut = osum.log_LUT(16384, 4096, 0.001)\n",
        "# lut = osum.log_LUT(16384, 4096, 0.1) # 2.5\n",
        "im_log = lut[im]\n",
        "\n",
        "# 2.3\n",
        "cv2.imshow('Slika nakon log kompresije opsega', im_log/im_log.max())\n",
        "cv2.waitKey(0)\n",
        "cv2.destroyAllWindows()\n",
        "\n",
        "# 2.4\n",
        "h2 = np.histogram(im_log, g)\n",
        "\n",
        "plt.figure()\n",
        "plt.plot(g[:-1], h1[0])\n",
        "plt.plot(g[:-1], h2[0], 'r')\n",
        "plt.legend(['original', 'log kompresija'])\n",
        "plt.show()\n"
      ]
    }
  ]
}