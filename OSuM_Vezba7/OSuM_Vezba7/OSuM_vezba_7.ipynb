{
  "nbformat": 4,
  "nbformat_minor": 0,
  "metadata": {
    "colab": {
      "name": "OSuM vezba 7.ipynb",
      "provenance": [],
      "collapsed_sections": [],
      "include_colab_link": true
    },
    "kernelspec": {
      "name": "python3",
      "display_name": "Python 3"
    },
    "language_info": {
      "name": "python"
    }
  },
  "cells": [
    {
      "cell_type": "markdown",
      "metadata": {
        "id": "view-in-github",
        "colab_type": "text"
      },
      "source": [
        "<a href=\"https://colab.research.google.com/github/nebojsa-bozanic/OSuM/blob/master/OSuM_Vezba7/OSuM_Vezba7/OSuM_vezba_7.ipynb\" target=\"_parent\"><img src=\"https://colab.research.google.com/assets/colab-badge.svg\" alt=\"Open In Colab\"/></a>"
      ]
    },
    {
      "cell_type": "markdown",
      "source": [
        "<h1>Obrada slike u medicini (BMI)</h1>\n",
        "\n",
        "Literatura: https://moodle.telekom.ftn.uns.ac.rs/course/view.php?id=82\n"
      ],
      "metadata": {
        "id": "iI6EsXJZ9wna"
      }
    },
    {
      "cell_type": "markdown",
      "source": [
        "Laboratorijska vežba 7: Obrada rendgenske slike: Suzbijanje šuma 1\n",
        "\n",
        "Potrebne biblioteke: cv2, numpy, matplotlib.pyplot, scipy.ndimage.filters (convolve1d, convolve), medpy.filter.smoothing (anisotropic_diffusion), osum"
      ],
      "metadata": {
        "id": "gRjyIqqVOd4y"
      }
    },
    {
      "cell_type": "code",
      "source": [
        "!git clone https://github.com/nebojsa-bozanic/OSuM.git\n",
        "%cd /content/OSuM/OSuM_Vezba7/OSuM_Vezba7"
      ],
      "metadata": {
        "id": "CqPHEoHCwgCQ",
        "outputId": "da1bcf88-fa09-4b22-8eb8-ae1b6e5f383a",
        "colab": {
          "base_uri": "https://localhost:8080/"
        }
      },
      "execution_count": null,
      "outputs": [
        {
          "output_type": "stream",
          "name": "stdout",
          "text": [
            "fatal: destination path 'OSuM' already exists and is not an empty directory.\n",
            "/content/OSuM/OSuM_Vezba7/OSuM_Vezba7\n"
          ]
        }
      ]
    },
    {
      "cell_type": "code",
      "source": [
        "import cv2\n",
        "import numpy as np\n",
        "import matplotlib.pyplot as plt\n",
        "import osum\n",
        "from scipy.ndimage.filters import convolve1d, convolve\n",
        "from medpy.filter.smoothing import anisotropic_diffusion\n",
        "\n",
        "from google.colab.patches import cv2_imshow"
      ],
      "metadata": {
        "id": "3OtF1cdV-I_F"
      },
      "execution_count": null,
      "outputs": []
    },
    {
      "cell_type": "markdown",
      "source": [
        "1 Razdvojivi 2D NF filtar\n",
        "\n",
        "1.1 Učitati sliku lspine_crop.png u promenljivu im1."
      ],
      "metadata": {
        "id": "nGoH1s1i91ok"
      }
    },
    {
      "cell_type": "code",
      "source": [
        "im1 = cv2.imread('lspine_crop.png', cv2.IMREAD_GRAYSCALE)"
      ],
      "metadata": {
        "id": "_2ABQiwsl30A"
      },
      "execution_count": null,
      "outputs": []
    },
    {
      "cell_type": "markdown",
      "source": [
        "1.2 Koristeći funkciju gaussian iz modula osum.py napraviti 1D Gausov filtar sa\n",
        "proizvoljnim n i sigma (npr. n=19, sigma =3)."
      ],
      "metadata": {
        "id": "n1Kdyr0nlX9q"
      }
    },
    {
      "cell_type": "code",
      "source": [
        "n = 19\n",
        "sigma = 3\n",
        "f, x_osa = osum.gaussian(n, sigma)"
      ],
      "metadata": {
        "id": "xZ3UYAiZl4tk"
      },
      "execution_count": null,
      "outputs": []
    },
    {
      "cell_type": "markdown",
      "source": [
        "1.3 Prikazati 1D filtar, a zatim prikazati 2D filtar H koji se dobija vektorskim množenjem\n",
        "dva 1D filtra."
      ],
      "metadata": {
        "id": "2Qd9Qi5_lYt4"
      }
    },
    {
      "cell_type": "code",
      "source": [
        "plt.figure()\n",
        "plt.stem(x_osa, f)\n",
        "# plt.show()\n",
        "\n",
        "H = np.outer(f,f)\n",
        "fig = plt.figure()\n",
        "ax = plt.axes(projection='3d')\n",
        "[x,y] = np.meshgrid(x_osa, x_osa)\n",
        "ax.plot_surface(x, y, H, cmap='viridis')\n",
        "plt.show()\n"
      ],
      "metadata": {
        "id": "dOkp5i6sl6x4"
      },
      "execution_count": null,
      "outputs": []
    },
    {
      "cell_type": "markdown",
      "source": [
        "1.4 Isfiltrirati sliku im1 1D gausovim filtrom prvo po jednoj dimenziji, a zatim po drugoj. Gausov filtar je razdvojiv filtar, pa je ovo ekvivalentno direktnom filtriranju sa 2D filtrom. Koja je prednost filtriranja 1D filtrima u odnosu na 2D filtar?\n"
      ],
      "metadata": {
        "id": "MIkn9SIulfrx"
      }
    },
    {
      "cell_type": "code",
      "source": [
        "im_f1 = convolve1d(im1, f, axis=0, mode='nearest')\n",
        "im_f1 = convolve1d(im_f1, f, axis=1, mode='nearest')"
      ],
      "metadata": {
        "id": "XNckIAMbl_fM"
      },
      "execution_count": null,
      "outputs": []
    },
    {
      "cell_type": "markdown",
      "source": [
        "1.5 Prikazati sliku nakon filtriranja i uporediti je sa originalnom. Koji je efekat filtriranja na šum, a koji na ivice."
      ],
      "metadata": {
        "id": "bJuWbdj9lh9x"
      }
    },
    {
      "cell_type": "code",
      "source": [
        "cv2.imshow('Originalna slika', im1)\n",
        "cv2.imshow('NF filtrirana', im_f1)\n",
        "cv2.waitKey(0)\n",
        "cv2.destroyAllWindows()"
      ],
      "metadata": {
        "id": "YhBRaOf7mCL5"
      },
      "execution_count": null,
      "outputs": []
    },
    {
      "cell_type": "markdown",
      "source": [
        "1.6 Ponoviti prethodne korake za različite kombinacije n i sigma. Koji je efekat kada se koriste veće, a koji kada se koriste manje vrednosti n, odnosno sigma?"
      ],
      "metadata": {
        "id": "udfahaJ_lmGn"
      }
    },
    {
      "cell_type": "code",
      "source": [
        "# n = 11\n",
        "# sigma = 1.5"
      ],
      "metadata": {
        "id": "7HpZZiP8mF2L"
      },
      "execution_count": null,
      "outputs": []
    },
    {
      "cell_type": "markdown",
      "source": [
        "1.7 Ponoviti prethodne korake sa slikom lspine.png učitanom u promenljivu im11."
      ],
      "metadata": {
        "id": "leNplxi6loa9"
      }
    },
    {
      "cell_type": "code",
      "source": [
        "im11 = cv2.imread('lspine.png', cv2.IMREAD_GRAYSCALE)"
      ],
      "metadata": {
        "id": "4apLSzhhmHk5"
      },
      "execution_count": null,
      "outputs": []
    },
    {
      "cell_type": "markdown",
      "source": [
        "2 Usmereno filtriranje\n",
        "\n",
        "2.1 Od filtra H napraviti usmereni filtar H1 koji prati ivice. Prikazati ga."
      ],
      "metadata": {
        "id": "v5FrIprrlrZy"
      }
    },
    {
      "cell_type": "code",
      "source": [
        "H2 = H\n",
        "ind = int(np.ceil(n/2))\n",
        "H2[ind:, :] = H2[ind:, :]*0.1\n",
        "\n",
        "fig = plt.figure()\n",
        "ax = plt.axes(projection='3d')\n",
        "[x,y] = np.meshgrid(x_osa, x_osa)\n",
        "ax.plot_surface(x, y, H2, cmap='viridis')\n",
        "plt.show()"
      ],
      "metadata": {
        "id": "pMoYQVlNnE00"
      },
      "execution_count": null,
      "outputs": []
    },
    {
      "cell_type": "markdown",
      "source": [
        "2.2 Primeniti filtar na sliku im1 i prikazati je. Uporediti je sa slikom slikom isfiltriranom\n",
        "prethodnim filtrom. Isto uraditi i sa slikom im11. Zašto slika izgleda tamnije?"
      ],
      "metadata": {
        "id": "Nn7rk0QGmU7p"
      }
    },
    {
      "cell_type": "code",
      "source": [
        "im_f2 = convolve(im1, H, mode='nearest')\n",
        "cv2.imshow('Usmereno filtriranje', im_f2)\n",
        "cv2.waitKey(0)\n",
        "cv2.destroyAllWindows()"
      ],
      "metadata": {
        "id": "3kcUXMMDnFp8"
      },
      "execution_count": null,
      "outputs": []
    },
    {
      "cell_type": "markdown",
      "source": [
        "3 Anizotropski filtar\n",
        "\n",
        "U promenljivu im2 učitati sliku abdomen_crop.png i isfiltrirati je funkcijom\n",
        "anisotropic_diffusion. Inicijalno postaviti parametre niter=5 i kappa=100. Menjati parametre i analizirati efekte. Prikazati isfiltriranu sliku."
      ],
      "metadata": {
        "id": "Aeoq3POamXcI"
      }
    },
    {
      "cell_type": "code",
      "source": [
        "im2 = cv2.imread('abdomen_crop.png', cv2.IMREAD_GRAYSCALE)\n",
        "im_f3 = anisotropic_diffusion(im2, niter=5, kappa=100)\n",
        "# manje kappa->manji gradijent sprecava provodjenje->difuzija kroz manji prostor, manje se usrednjava\n",
        "\n",
        "plt.figure()\n",
        "plt.imshow(im_f3, cmap='gray', vmin=im_f3.min(), vmax=im_f3.max())\n",
        "plt.axis('off')\n",
        "plt.title('AD filtriranje')\n",
        "plt.show()"
      ],
      "metadata": {
        "id": "CnSYGriYnIWJ"
      },
      "execution_count": null,
      "outputs": []
    },
    {
      "cell_type": "markdown",
      "source": [
        "4 Bilateralni filtar\n",
        "\n",
        "Primeniti bilateralni filtar na sliku im2. Inicijalno postaviti parametre velicina prozora d=15, std prostornog kernela sigmaSpace=15, std kernela za intenzitet sigmaColor=15. Isprobati različite kombinacije parametara i analizirati efekte. Uraditi isto sa slikom abdomen.png učitanom u promenljivu im22."
      ],
      "metadata": {
        "id": "kGlSeZXvmZ3D"
      }
    },
    {
      "cell_type": "code",
      "source": [
        "im22 = cv2.imread('abdomen.png', cv2.IMREAD_GRAYSCALE)\n",
        "im_f4 = cv2.bilateralFilter(im2, d=15, sigmaSpace=15, sigmaColor=15)\n",
        "# im_f4 = cv2.bilateralFilter(im2, d=15, sigmaSpace=15, sigmaColor=75)\n",
        "\n",
        "cv2.imshow('Bilateralno filtriranje', im_f4)\n",
        "cv2.waitKey(0)\n",
        "cv2.destroyAllWindows()\n"
      ],
      "metadata": {
        "id": "5jO34ij1nKXf"
      },
      "execution_count": null,
      "outputs": []
    },
    {
      "cell_type": "markdown",
      "source": [
        "5. Multiveličinsko filtriranje \n",
        "\n",
        "Skraćivanje u piramidi\n",
        "\n",
        "5.1 Napraviti Laplasovu piramidu sa 2 nivoa od slike im2. Prikazati histogram \n",
        "prvog nivoa\n",
        "LP u granicama -200 do 200."
      ],
      "metadata": {
        "id": "m7PRQ23Ult6-"
      }
    },
    {
      "cell_type": "code",
      "source": [
        "Lpyr, Gpyr, Res, size_vec = osum.im_pyr_decomp(im2, 2)\n",
        "L1 = Lpyr[0]\n",
        "# L2 = Lpyr[1]  # 5.5\n",
        "\n",
        "g = np.arange(-200, 201)\n",
        "h1 = np.histogram(L1, g)\n",
        "plt.figure()\n",
        "plt.plot(g[:-1], h1[0])\n",
        "# plt.show()"
      ],
      "metadata": {
        "id": "BMVElktTnMu1"
      },
      "execution_count": null,
      "outputs": []
    },
    {
      "cell_type": "markdown",
      "source": [
        "5.2 Skraćivanje piramide se radi na višim nivoima piramida slike uz pretpostavku da na tim nivoima dominira šum, pa želimo da smanjimo kontrast, tj. vidljivost šuma. Vrednosti svih koeficijenata smanjujemo (skraćujemo) za vrednost cs (inicijalno postaviti na 15). Koeficijente koji su po apsolutnoj vrednosti manji od cs treba svesti na 0."
      ],
      "metadata": {
        "id": "Q1JLecvOmsFp"
      }
    },
    {
      "cell_type": "code",
      "source": [
        "cs = 15  # cs = 20, cs = 10, cs = 5  # 5.5\n",
        "L1[L1>0] = np.maximum(L1[L1>0]-cs, 0)\n",
        "L1[L1<0] = np.minimum(L1[L1<0]+cs, 0)"
      ],
      "metadata": {
        "id": "1huv44aHnOqe"
      },
      "execution_count": null,
      "outputs": []
    },
    {
      "cell_type": "markdown",
      "source": [
        "5.3 Napraviti histogram prvog nivoa LP nakon skraćivanja i prikazati ga preko histograma originalnog nivoa."
      ],
      "metadata": {
        "id": "WETPJyL0mwLG"
      }
    },
    {
      "cell_type": "code",
      "source": [
        "h2 = np.histogram(L1, g)\n",
        "plt.plot(g[:-1], h2[0])\n",
        "plt.legend(['original', 'skracivanje'])\n",
        "plt.title('L1')\n",
        "plt.show()"
      ],
      "metadata": {
        "id": "q2G92I8qnQTM"
      },
      "execution_count": null,
      "outputs": []
    },
    {
      "cell_type": "markdown",
      "source": [
        "5.4 Prikazati sliku pre i posle skraćivanja i uporediti ih."
      ],
      "metadata": {
        "id": "ecR9k-PhmzEl"
      }
    },
    {
      "cell_type": "code",
      "source": [
        "fig = plt.figure()\n",
        "ax = fig.add_axes([0,0,1,1])\n",
        "ax.imshow(im2, cmap='gray', vmin=im2.min(), vmax=im2.max())\n",
        "plt.axis('off')\n",
        "fig.canvas.set_window_title('Originalna slika')\n",
        "\n",
        "Lpyr[0] = L1\n",
        "im_r1 = osum.im_pyr_recon(Lpyr, Res, size_vec)\n",
        "fig = plt.figure()\n",
        "ax = fig.add_axes([0,0,1,1])\n",
        "ax.imshow(im_r1, cmap='gray', vmin=im_r1.min(), vmax=im_r1.max())\n",
        "plt.axis('off')\n",
        "fig.canvas.set_window_title('Nakon skracivanja u piramidi')\n",
        "plt.show()"
      ],
      "metadata": {
        "id": "rI4iuFIKnS_n"
      },
      "execution_count": null,
      "outputs": []
    },
    {
      "cell_type": "markdown",
      "source": [
        "\n",
        "5.5 Menjati vrednosti cs (odabrati vrednosti analizom histograma) i analizirati efekte. Isprobati skraćivanje i na drugi nivou LP."
      ],
      "metadata": {
        "id": "JHtzHmpLm3ZI"
      }
    },
    {
      "cell_type": "markdown",
      "source": [
        "5.6 Ponoviti sve korake za sliku im22.\n",
        "Pragovanje u piramidi"
      ],
      "metadata": {
        "id": "u0IMTLOdm6ND"
      }
    },
    {
      "cell_type": "markdown",
      "source": [
        "5.7 Pragovanje se iz istog razloga kao i skraćivanje radi na višim nivoima piramide.\n",
        "Koeficijente koji su po apsolutnoj vrednosti manji od praga t treba svesti na 0.\n",
        "Inicijalno uzeti t=15."
      ],
      "metadata": {
        "id": "7ILy8L7cm7x6"
      }
    },
    {
      "cell_type": "code",
      "source": [
        "Lpyr, Gpyr, Res, size_vec = osum.im_pyr_decomp(im2, 2)\n",
        "L1 = Lpyr[0]\n",
        "\n",
        "g = np.arange(-200, 201)\n",
        "h1 = np.histogram(L1, g)\n",
        "\n",
        "t = 15\n",
        "L1[abs(L1)<t] = L1[abs(L1)<t]*0"
      ],
      "metadata": {
        "id": "teMGTpQhnZR8"
      },
      "execution_count": null,
      "outputs": []
    },
    {
      "cell_type": "markdown",
      "source": [
        "5.8 Prikazati histograme pre i posle pragovanja."
      ],
      "metadata": {
        "id": "It0EAoGrm9tD"
      }
    },
    {
      "cell_type": "code",
      "source": [
        "h2 = np.histogram(L1, g)\n",
        "plt.figure()\n",
        "plt.plot(g[:-1], h1[0])\n",
        "plt.plot(g[:-1], h2[0])\n",
        "plt.legend(['original', 'pragovanje'])\n",
        "plt.title('L1')\n",
        "plt.show()"
      ],
      "metadata": {
        "id": "RD2bwFz6nbMJ"
      },
      "execution_count": null,
      "outputs": []
    },
    {
      "cell_type": "markdown",
      "source": [
        "5.9 Prikazati slike pre i posle pragovanja."
      ],
      "metadata": {
        "id": "8wV1ZTpIm_Pd"
      }
    },
    {
      "cell_type": "code",
      "source": [
        "fig = plt.figure()\n",
        "ax = fig.add_axes([0,0,1,1])\n",
        "ax.imshow(im2, cmap='gray', vmin=im2.min(), vmax=im2.max())\n",
        "plt.axis('off')\n",
        "fig.canvas.set_window_title('Originalna slika')\n",
        "\n",
        "Lpyr[0] = L1\n",
        "im_r2 = osum.im_pyr_recon(Lpyr, Res, size_vec)\n",
        "fig = plt.figure()\n",
        "ax = fig.add_axes([0,0,1,1])\n",
        "ax.imshow(im_r2, cmap='gray', vmin=im_r2.min(), vmax=im_r2.max())\n",
        "plt.axis('off')\n",
        "fig.canvas.set_window_title('Nakon pragovanja u piramidi')\n",
        "plt.show()"
      ],
      "metadata": {
        "id": "O7Z30tncndAP"
      },
      "execution_count": null,
      "outputs": []
    },
    {
      "cell_type": "markdown",
      "source": [
        "5.10 Isporbati različite vrednosti za prag t (odabrati vrednosti analizom histograma)\n",
        "kao i za drugi nivo LP i analizirati efekte. Ponoviti sve korake za sliku im22."
      ],
      "metadata": {
        "id": "JaMT734onAr6"
      }
    }
  ]
}